{
 "cells": [
  {
   "cell_type": "code",
   "execution_count": 10,
   "id": "fc59c7d7",
   "metadata": {
    "vscode": {
     "languageId": "sage"
    }
   },
   "outputs": [],
   "source": [
    "from itertools import combinations\n",
    "import numpy as np\n",
    "\n",
    "def bases_iterator(M):\n",
    "    for Xt in combinations(M.groundset(), M.full_rank()):\n",
    "        X = frozenset(Xt)\n",
    "        if M._is_independent(X):\n",
    "            yield X"
   ]
  },
  {
   "cell_type": "code",
   "execution_count": 11,
   "id": "eccfdc3f",
   "metadata": {
    "vscode": {
     "languageId": "sage"
    }
   },
   "outputs": [],
   "source": [
    "r, n = 2, 5\n",
    "M = matroids.Uniform(r, n)\n",
    "S = (frozenset({0}), frozenset({1}), frozenset({0, 2}),\n",
    "    frozenset({0, 2}), frozenset({3}))\n",
    "k = len(S)\n",
    "P = PolynomialRing(QQ, 'x', k)"
   ]
  },
  {
   "cell_type": "code",
   "execution_count": null,
   "id": "9c9b841a",
   "metadata": {
    "vscode": {
     "languageId": "sage"
    }
   },
   "outputs": [
    {
     "name": "stdout",
     "output_type": "stream",
     "text": [
      "Bases: [frozenset({0, 1}), frozenset({0, 2}), frozenset({0, 3}), frozenset({0, 4}), frozenset({1, 2}), frozenset({1, 3}), frozenset({1, 4}), frozenset({2, 3}), frozenset({2, 4}), frozenset({3, 4})]\n",
      "--------------------\n",
      "Input S: (frozenset({0}), frozenset({1}), frozenset({0, 2}), frozenset({0, 2}), frozenset({3}))\n",
      "--------------------\n",
      "Calculated A(S) matrix:\n",
      "[[0 1 1 1 1]\n",
      " [1 0 2 2 1]\n",
      " [1 2 1 1 2]\n",
      " [1 2 1 1 2]\n",
      " [1 1 2 2 0]]\n"
     ]
    }
   ],
   "source": [
    "def get_A_matrix(S, bases):\n",
    "    \"\"\"\n",
    "    Calculates the coefficient matrix A(S) for a rank 2 matroid.\n",
    "\n",
    "    The matrix A(S) is an n x n symmetric matrix where n = len(S).\n",
    "    - A[i, i] = c_ii(S) = number of bases B such that B is a subset of S_i.\n",
    "    - A[i, j] = c_ij(S) = number of bases B = {b1, b2} such that\n",
    "                        (b1 in S_i and b2 in S_j) or (b1 in S_j and b2 in S_i).\n",
    "                        This corresponds to the coefficient of x_i * x_j in the\n",
    "                        (denormalized) based cover class polynomial.\n",
    "\n",
    "    Args:\n",
    "    S: A list or tuple of sets (or other iterable collections), representing\n",
    "        the sequence (S_1, ..., S_n). Elements within the sets should be\n",
    "        hashable.\n",
    "    bases: An iterable collection of sets or frozensets, where each inner\n",
    "            set represents a base B of the rank 2 matroid M. All bases B\n",
    "            must have |B| = 2.\n",
    "\n",
    "    Returns:\n",
    "    A NumPy array representing the n x n symmetric matrix A(S).\n",
    "    Returns None if bases are not all of size 2.\n",
    "    \"\"\"\n",
    "    n = len(S)\n",
    "    if n == 0:\n",
    "        return np.zeros((0, 0), dtype=int)\n",
    "\n",
    "    # Convert S_i to sets for efficient lookup\n",
    "    S_sets = [set(s_i) for s_i in S]\n",
    "\n",
    "    # Initialize A matrix\n",
    "    A = np.zeros((n, n), dtype=int)\n",
    "\n",
    "    # Check if bases are valid (all size 2) and convert to frozensets\n",
    "    processed_bases = []\n",
    "    for B in bases:\n",
    "        if len(B) != 2:\n",
    "            print(f\"Error: Base {B} does not have size 2. Matroid must be rank 2.\")\n",
    "            return None\n",
    "        processed_bases.append(frozenset(B))\n",
    "\n",
    "    # Iterate through each base B in the matroid M\n",
    "    for B in processed_bases:\n",
    "        b1, b2 = tuple(B) # Get the two elements of the base\n",
    "\n",
    "        # Calculate diagonal entries A[i, i] = c_ii(S)\n",
    "        for i in range(n):\n",
    "            # Check if B is a subset of S_i\n",
    "            if B.issubset(S_sets[i]):\n",
    "                A[i, i] += 1\n",
    "\n",
    "        # Calculate off-diagonal entries A[i, j] = c_ij(S) for i < j\n",
    "        for i in range(n):\n",
    "            for j in range(i + 1, n):\n",
    "                # Check if one element is in S_i and the other is in S_j\n",
    "                if (b1 in S_sets[i] and b2 in S_sets[j]) or \\\n",
    "                (b1 in S_sets[j] and b2 in S_sets[i]):\n",
    "                    A[i, j] += 1\n",
    "                    A[j, i] += 1 # Maintain symmetry\n",
    "\n",
    "    return A\n",
    "\n",
    "bases = list(bases_iterator(M))\n",
    "\n",
    "A = get_A_matrix(S, bases)\n",
    "\n",
    "print(\"Bases:\", bases)\n",
    "print(\"-\" * 20)\n",
    "print(\"Input S:\", S)\n",
    "print(\"-\" * 20)\n",
    "print(\"Calculated A(S) matrix:\")\n",
    "print(A)\n",
    "\n",
    "pt"
   ]
  }
 ],
 "metadata": {
  "kernelspec": {
   "display_name": "SageMath 10.3",
   "language": "sage",
   "name": "sagemath"
  },
  "language_info": {
   "codemirror_mode": {
    "name": "ipython",
    "version": 3
   },
   "file_extension": ".py",
   "mimetype": "text/x-python",
   "name": "python",
   "nbconvert_exporter": "python",
   "pygments_lexer": "ipython3",
   "version": "3.11.9"
  }
 },
 "nbformat": 4,
 "nbformat_minor": 5
}
