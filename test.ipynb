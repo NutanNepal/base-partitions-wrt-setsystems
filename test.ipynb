{
 "cells": [
  {
   "cell_type": "code",
   "execution_count": 1,
   "id": "aaaf5ca9",
   "metadata": {
    "vscode": {
     "languageId": "sage"
    }
   },
   "outputs": [
    {
     "data": {
      "text/plain": [
       "[(1, x1^4*x2),\n",
       " (3, x1^3*x2^2),\n",
       " (3, x1^2*x2^3),\n",
       " (1, x1*x2^4),\n",
       " (1, x1^4),\n",
       " (7, x1^3*x2),\n",
       " (12, x1^2*x2^2),\n",
       " (7, x1*x2^3),\n",
       " (1, x2^4),\n",
       " (4, x1^3),\n",
       " (15, x1^2*x2),\n",
       " (15, x1*x2^2),\n",
       " (4, x2^3),\n",
       " (6, x1^2),\n",
       " (13, x1*x2),\n",
       " (6, x2^2),\n",
       " (4, x1),\n",
       " (4, x2),\n",
       " (1, 1)]"
      ]
     },
     "execution_count": 1,
     "metadata": {},
     "output_type": "execute_result"
    }
   ],
   "source": [
    "R = PolynomialRing(QQ, 'x1, x2')\n",
    "x1, x2 = R.gens()\n",
    "f = (1 +x1 + x2)^3*(1+x1)*(1+x2)\n",
    "list(zip(f.coefficients(), f.monomials()))"
   ]
  },
  {
   "cell_type": "code",
   "execution_count": 2,
   "id": "0f156149",
   "metadata": {
    "vscode": {
     "languageId": "sage"
    }
   },
   "outputs": [
    {
     "name": "stdout",
     "output_type": "stream",
     "text": [
      "Matrix M:\n",
      "[0 1 2 3]\n",
      "[1 0 3 2]\n",
      "[2 3 1 1]\n",
      "[3 2 1 1]\n",
      "\n",
      "Eigenvalues:\n",
      "[-3.524937810560445?, 6.524937810560445?, -1.618033988749895?, 0.618033988749895?]\n",
      "Eigenvalue: -3.524937810560445?\n",
      "Eigenvectors: [(1, 1, -0.9049875621120890?, -0.9049875621120890?)]\n",
      "Algebraic multiplicity: 1\n",
      "\n",
      "Eigenvalue: 6.524937810560445?\n",
      "Eigenvectors: [(1, 1, 1.104987562112089?, 1.104987562112089?)]\n",
      "Algebraic multiplicity: 1\n",
      "\n",
      "Eigenvalue: -1.618033988749895?\n",
      "Eigenvectors: [(1, -1, 0.618033988749895?, -0.618033988749895?)]\n",
      "Algebraic multiplicity: 1\n",
      "\n",
      "Eigenvalue: 0.618033988749895?\n",
      "Eigenvectors: [(1, -1, -1.618033988749895?, 1.618033988749895?)]\n",
      "Algebraic multiplicity: 1\n",
      "\n"
     ]
    }
   ],
   "source": [
    "# Define your matrix\n",
    "M = matrix([\n",
    "    [0, 1, 2, 3],\n",
    "    [1, 0, 3, 2],\n",
    "    [2, 3, 1, 1],\n",
    "    [3, 2, 1, 1],\n",
    "])\n",
    "\n",
    "print(\"Matrix M:\")\n",
    "print(M)\n",
    "print()\n",
    "\n",
    "# Basic eigenvalue computation\n",
    "eigenvalues = M.eigenvalues()\n",
    "print(\"Eigenvalues:\")\n",
    "print(eigenvalues)\n",
    "\n",
    "eigen_data = M.eigenvectors_right()\n",
    "for val, vecs, mult in eigen_data:\n",
    "    print(\"Eigenvalue:\", val)\n",
    "    print(\"Eigenvectors:\", vecs)\n",
    "    print(\"Algebraic multiplicity:\", mult)\n",
    "    print()"
   ]
  },
  {
   "cell_type": "code",
   "execution_count": 4,
   "id": "81fb26c5",
   "metadata": {
    "vscode": {
     "languageId": "sage"
    }
   },
   "outputs": [
    {
     "name": "stdout",
     "output_type": "stream",
     "text": [
      "frozenset({'f', 'g', 'c', 'b', 'a', 'e', 'd'})\n",
      "[frozenset({'a', 'c', 'b'}), frozenset({'a', 'c', 'd'}), frozenset({'a', 'b', 'd'}), frozenset({'a', 'e', 'd'}), frozenset({'e', 'b', 'd'}), frozenset({'c', 'e', 'd'}), frozenset({'c', 'e', 'b'}), frozenset({'a', 'e', 'b'}), frozenset({'a', 'e', 'f'}), frozenset({'e', 'b', 'f'}), frozenset({'c', 'e', 'f'}), frozenset({'a', 'f', 'd'}), frozenset({'b', 'f', 'd'}), frozenset({'c', 'f', 'd'}), frozenset({'a', 'c', 'f'}), frozenset({'c', 'b', 'f'}), frozenset({'a', 'g', 'f'}), frozenset({'g', 'b', 'f'}), frozenset({'g', 'f', 'd'}), frozenset({'g', 'e', 'f'}), frozenset({'a', 'e', 'g'}), frozenset({'g', 'c', 'e'}), frozenset({'g', 'e', 'd'}), frozenset({'g', 'b', 'd'}), frozenset({'g', 'c', 'd'}), frozenset({'a', 'c', 'g'}), frozenset({'g', 'c', 'b'}), frozenset({'a', 'g', 'b'})]\n",
      "3\n"
     ]
    }
   ],
   "source": [
    "M = matroids.catalog.Fano()\n",
    "print(M.groundset())\n",
    "print(list(M.bases()))\n",
    "print(M.rank())   "
   ]
  }
 ],
 "metadata": {
  "kernelspec": {
   "display_name": "SageMath 10.3",
   "language": "sage",
   "name": "sagemath"
  },
  "language_info": {
   "codemirror_mode": {
    "name": "ipython",
    "version": 3
   },
   "file_extension": ".py",
   "mimetype": "text/x-python",
   "name": "python",
   "nbconvert_exporter": "python",
   "pygments_lexer": "ipython3",
   "version": "3.11.9"
  }
 },
 "nbformat": 4,
 "nbformat_minor": 5
}
