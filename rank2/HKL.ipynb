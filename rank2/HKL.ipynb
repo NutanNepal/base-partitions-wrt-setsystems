{
 "cells": [
  {
   "cell_type": "code",
   "execution_count": 6,
   "id": "73341e43",
   "metadata": {},
   "outputs": [
    {
     "name": "stdout",
     "output_type": "stream",
     "text": [
      "Original Matrix M:\n",
      "[[3 1 0 2 1]\n",
      " [1 4 2 0 1]\n",
      " [0 2 5 1 0]\n",
      " [2 0 1 3 2]\n",
      " [1 1 0 2 4]]\n",
      "\n"
     ]
    },
    {
     "data": {
      "text/plain": [
       "array([[ 0, 11, 15,  5, 11],\n",
       "       [11,  0, 16, 12, 15],\n",
       "       [15, 16,  0, 14, 20],\n",
       "       [ 5, 12, 14,  0,  8],\n",
       "       [11, 15, 20,  8,  0]])"
      ]
     },
     "execution_count": 6,
     "metadata": {},
     "output_type": "execute_result"
    }
   ],
   "source": [
    "import numpy as np\n",
    "\n",
    "M = np.array([\n",
    "    [3, 1, 0, 2, 1],\n",
    "    [1, 4, 2, 0, 1],\n",
    "    [0, 2, 5, 1, 0],\n",
    "    [2, 0, 1, 3, 2],\n",
    "    [1, 1, 0, 2, 4]\n",
    "])\n",
    "\n",
    "def get_minor_determinant_matrix(M):\n",
    "    \"\"\"\n",
    "    Compute matrix H where h_{ij} = m_{ii} * m_{jj} - m_{ij} * m_{ji}\n",
    "    \n",
    "    Args:\n",
    "        M: Input matrix (n x n)\n",
    "    \n",
    "    Returns:\n",
    "        Matrix H of size n x n where h_{ij} = m_{ii} * m_{jj} - m_{ij} * m_{ji}\n",
    "    \"\"\"\n",
    "    n, m = M.shape\n",
    "    \n",
    "    if n != m:\n",
    "        raise ValueError(\"Matrix must be square\")\n",
    "    \n",
    "    # Initialize result matrix\n",
    "    H = np.zeros((n, n), dtype=np.int64)\n",
    "    \n",
    "    # Compute each entry h_{ij} = m_{ii} * m_{jj} - m_{ij} * m_{ji}\n",
    "    for i in range(n):\n",
    "        for j in range(n):\n",
    "            H[i, j] = M[i, i] * M[j, j] - M[i, j] * M[j, i]\n",
    "    \n",
    "    return H\n",
    "\n",
    "print(\"Original Matrix M:\")\n",
    "print(M)\n",
    "print()\n",
    "\n",
    "get_minor_determinant_matrix(M)\n"
   ]
  }
 ],
 "metadata": {
  "kernelspec": {
   "display_name": "SageMath 10.3",
   "language": "sage",
   "name": "sagemath"
  },
  "language_info": {
   "codemirror_mode": {
    "name": "ipython",
    "version": 3
   },
   "file_extension": ".py",
   "mimetype": "text/x-python",
   "name": "sage",
   "nbconvert_exporter": "python",
   "pygments_lexer": "ipython3",
   "version": "3.11.9"
  }
 },
 "nbformat": 4,
 "nbformat_minor": 5
}
