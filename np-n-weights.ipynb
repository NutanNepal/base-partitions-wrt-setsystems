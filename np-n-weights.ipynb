{
 "cells": [
  {
   "cell_type": "code",
   "execution_count": 13,
   "metadata": {
    "vscode": {
     "languageId": "sage"
    }
   },
   "outputs": [],
   "source": [
    "import sys\n",
    "sys.path.append('..')\n",
    "from itertools import permutations\n",
    "from modified_sage_funcs import *\n",
    "from imp_funcs import *\n",
    "\n",
    "r, n = 2, 4\n",
    "M = matroids.Uniform(r, n)\n",
    "d = M.full_rank()\n",
    "S = (frozenset({0, 1}), frozenset({0, 1, 2}))\n",
    "S2 = (frozenset({0}), frozenset({1}), frozenset({0}))"
   ]
  },
  {
   "cell_type": "code",
   "execution_count": null,
   "metadata": {
    "vscode": {
     "languageId": "sage"
    }
   },
   "outputs": [],
   "source": [
    "def partitions(basis, weak_comp):\n",
    "    parts = set()\n",
    "    for perm in permutations(basis):\n",
    "        partition = []\n",
    "        start = 0\n",
    "        for size in weak_comp:\n",
    "            partition.append(frozenset(perm[start:start + size]))\n",
    "            start += size\n",
    "        parts.add(tuple(partition))\n",
    "    return tuple(parts)\n",
    "\n",
    "def base_partitions(bases, indexed_compositions):\n",
    "    bases_partitions = {}\n",
    "    for basis in bases:\n",
    "        base_partitions = {}\n",
    "        for i in indexed_compositions:\n",
    "            base_partitions[i] = partitions(tuple(basis), indexed_compositions[i])\n",
    "        bases_partitions[basis] = base_partitions\n",
    "    return bases_partitions\n"
   ]
  },
  {
   "cell_type": "code",
   "execution_count": 15,
   "metadata": {
    "vscode": {
     "languageId": "sage"
    }
   },
   "outputs": [],
   "source": [
    "def composition_weight(iwc, set_system, bp):\n",
    "    weights = {}\n",
    "    \n",
    "    for i in iwc:\n",
    "        weight = 0\n",
    "        for basis in bases:\n",
    "            for basis_partition in bp[basis][i]:\n",
    "                flag = True\n",
    "                for x, y, z in zip(iwc[i], basis_partition, set_system):\n",
    "                    if len(y.intersection(z)) == x:\n",
    "                        continue\n",
    "                    else:\n",
    "                        flag = False\n",
    "                        break\n",
    "                if flag:\n",
    "                    weight += 1\n",
    "                    break\n",
    "        weights[i] = weight\n",
    "    return weights"
   ]
  },
  {
   "cell_type": "code",
   "execution_count": 16,
   "metadata": {
    "vscode": {
     "languageId": "sage"
    }
   },
   "outputs": [
    {
     "data": {
      "text/plain": [
       "x1 * (x0 + x2)"
      ]
     },
     "execution_count": 16,
     "metadata": {},
     "output_type": "execute_result"
    }
   ],
   "source": [
    "def weighted_poly(M, set_system):\n",
    "    d, n = M.full_rank(), len(M.groundset())\n",
    "    k = len(set_system)\n",
    "    bases = sorted([frozenset(sorted(X)) for X in bases_iterator(M)])\n",
    "    indexed_compositions = {i : x for i, x in enumerate(weak_compositions(d, k))}\n",
    "    bp = base_partitions(bases, indexed_compositions)\n",
    "    weights = composition_weight(indexed_compositions, set_system, bp)\n",
    "    P = PolynomialRing(QQ, 'x', k)\n",
    "    def monomial(wc):\n",
    "        return prod([P.gen(i)**wc[i] for i in range(len(wc))])\n",
    "    def weighted_sum(weights):\n",
    "        return sum([weights[i]*monomial(indexed_compositions[i]) for i in weights])\n",
    "    return weighted_sum(weights).factor()\n",
    "\n",
    "weighted_poly(M, S2)"
   ]
  }
 ],
 "metadata": {
  "kernelspec": {
   "display_name": "SageMath 10.3",
   "language": "sage",
   "name": "SageMath-10.3"
  },
  "language_info": {
   "codemirror_mode": {
    "name": "ipython",
    "version": 3
   },
   "file_extension": ".py",
   "mimetype": "text/x-python",
   "name": "python",
   "nbconvert_exporter": "python",
   "pygments_lexer": "ipython3",
   "version": "3.11.8"
  }
 },
 "nbformat": 4,
 "nbformat_minor": 2
}
