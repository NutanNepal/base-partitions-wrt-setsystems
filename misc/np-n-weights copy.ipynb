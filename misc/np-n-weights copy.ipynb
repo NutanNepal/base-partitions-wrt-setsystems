{
 "cells": [
  {
   "cell_type": "code",
   "execution_count": 1,
   "metadata": {
    "vscode": {
     "languageId": "sage"
    }
   },
   "outputs": [],
   "source": [
    "import sys\n",
    "sys.path.append('..')\n",
    "from itertools import permutations\n",
    "from modified_sage_funcs import *\n",
    "from imp_funcs import *\n",
    "\n",
    "r, n = 2, 6\n",
    "M = matroids.Uniform(r, n)\n",
    "r = M.rank()\n",
    "#S = (frozenset({0, 1, 2, 3}), frozenset({2, 3, 4, 5, 6}))\n",
    "S = (frozenset({0}), frozenset({0}), frozenset({0}),\n",
    "    frozenset({0, 1, 2}), frozenset({0, 1, 2, 3}))\n",
    "k = len(S)\n",
    "P = PolynomialRing(QQ, 'x', k)"
   ]
  },
  {
   "cell_type": "code",
   "execution_count": 2,
   "metadata": {
    "vscode": {
     "languageId": "sage"
    }
   },
   "outputs": [],
   "source": [
    "def partitions(basis, weak_comp):\n",
    "    \"\"\"\n",
    "    partitions a basis into weak components\n",
    "    \"\"\"\n",
    "    parts = set()\n",
    "    for perm in permutations(basis):\n",
    "        partition = []\n",
    "        start = 0\n",
    "        for size in weak_comp:\n",
    "            partition.append(frozenset(perm[start:start + size]))\n",
    "            start += size\n",
    "        parts.add(tuple(partition))\n",
    "    return tuple(parts)\n",
    "\n",
    "def base_partitions(bases, indexed_compositions):\n",
    "    \"\"\"\n",
    "    partitions each basis into weak components\n",
    "    \"\"\"\n",
    "    bases_partitions = {}\n",
    "    for basis in bases:\n",
    "        base_partitions = {}\n",
    "        for i in indexed_compositions:\n",
    "            base_partitions[i] = partitions(tuple(basis), indexed_compositions[i])\n",
    "        bases_partitions[basis] = base_partitions\n",
    "    return bases_partitions\n"
   ]
  },
  {
   "cell_type": "code",
   "execution_count": 3,
   "metadata": {
    "vscode": {
     "languageId": "sage"
    }
   },
   "outputs": [],
   "source": [
    "def composition_weight(iwc, set_system, bp):\n",
    "    \"\"\"\n",
    "    computes the weight of each composition\n",
    "    \"\"\"\n",
    "    weights = {}\n",
    "    for i in iwc:\n",
    "        weight = 0\n",
    "        for basis in bp:\n",
    "            for basis_partition in bp[basis][i]:\n",
    "                flag = True\n",
    "                for x, y, z in zip(iwc[i], basis_partition, set_system):\n",
    "                    if len(y.intersection(z)) == x:\n",
    "                        continue\n",
    "                    else:\n",
    "                        flag = False\n",
    "                        break\n",
    "                if flag:\n",
    "                    weight += 1\n",
    "                    break\n",
    "        weights[i] = weight\n",
    "    return weights"
   ]
  },
  {
   "cell_type": "code",
   "execution_count": 4,
   "metadata": {
    "vscode": {
     "languageId": "sage"
    }
   },
   "outputs": [],
   "source": [
    "def weighted_poly(M, set_system):\n",
    "    d, n = M.full_rank(), len(M.groundset())\n",
    "    k = len(set_system)\n",
    "    P = PolynomialRing(QQ, 'x', k)\n",
    "    bases = sorted([frozenset(sorted(X)) for X in bases_iterator(M)])\n",
    "    indexed_compositions = {i : x for i, x in enumerate(weak_compositions(d, k))}\n",
    "    bp = base_partitions(bases, indexed_compositions)\n",
    "    weights = composition_weight(indexed_compositions, set_system, bp)\n",
    "    def monomial(wc):\n",
    "        return prod([P.gen(i)**wc[i] for i in range(len(wc))])\n",
    "    def weighted_sum(weights):\n",
    "        return sum([weights[i]*monomial(indexed_compositions[i]) for i in weights])\n",
    "    return weighted_sum(weights)"
   ]
  },
  {
   "cell_type": "code",
   "execution_count": 5,
   "metadata": {
    "vscode": {
     "languageId": "sage"
    }
   },
   "outputs": [],
   "source": [
    "def decompose(S):\n",
    "    return tuple(frozenset([x]) for sets in S for x in sets)\n",
    "\n",
    "indexed_compositions = {i : x for i, x in enumerate(weak_compositions(r, k))}"
   ]
  },
  {
   "cell_type": "code",
   "execution_count": 6,
   "metadata": {
    "vscode": {
     "languageId": "sage"
    }
   },
   "outputs": [
    {
     "name": "stdout",
     "output_type": "stream",
     "text": [
      "2*x0*x3 + 2*x1*x3 + 2*x2*x3 + 3*x3^2 + 3*x0*x4 + 3*x1*x4 + 3*x2*x4 + 6*x3*x4 + 6*x4^2\n",
      "33\n"
     ]
    },
    {
     "data": {
      "text/plain": [
       "{(1, 0, 0, 0, 1, 0, 0, 0, 0, 0): 1,\n",
       " (0, 1, 0, 0, 1, 0, 0, 0, 0, 0): 1,\n",
       " (0, 0, 1, 0, 1, 0, 0, 0, 0, 0): 1,\n",
       " (0, 0, 0, 1, 1, 0, 0, 0, 0, 0): 1,\n",
       " (1, 0, 0, 0, 0, 1, 0, 0, 0, 0): 1,\n",
       " (0, 1, 0, 0, 0, 1, 0, 0, 0, 0): 1,\n",
       " (0, 0, 1, 0, 0, 1, 0, 0, 0, 0): 1,\n",
       " (0, 0, 0, 1, 0, 1, 0, 0, 0, 0): 1,\n",
       " (0, 0, 0, 0, 1, 1, 0, 0, 0, 0): 1,\n",
       " (0, 0, 0, 0, 1, 0, 1, 0, 0, 0): 1,\n",
       " (0, 0, 0, 0, 0, 1, 1, 0, 0, 0): 1,\n",
       " (1, 0, 0, 0, 0, 0, 0, 1, 0, 0): 1,\n",
       " (0, 1, 0, 0, 0, 0, 0, 1, 0, 0): 1,\n",
       " (0, 0, 1, 0, 0, 0, 0, 1, 0, 0): 1,\n",
       " (0, 0, 0, 1, 0, 0, 0, 1, 0, 0): 1,\n",
       " (0, 0, 0, 0, 0, 1, 0, 1, 0, 0): 1,\n",
       " (0, 0, 0, 0, 0, 0, 1, 1, 0, 0): 1,\n",
       " (1, 0, 0, 0, 0, 0, 0, 0, 1, 0): 1,\n",
       " (0, 1, 0, 0, 0, 0, 0, 0, 1, 0): 1,\n",
       " (0, 0, 1, 0, 0, 0, 0, 0, 1, 0): 1,\n",
       " (0, 0, 0, 1, 0, 0, 0, 0, 1, 0): 1,\n",
       " (0, 0, 0, 0, 1, 0, 0, 0, 1, 0): 1,\n",
       " (0, 0, 0, 0, 0, 0, 1, 0, 1, 0): 1,\n",
       " (0, 0, 0, 0, 0, 0, 0, 1, 1, 0): 1,\n",
       " (1, 0, 0, 0, 0, 0, 0, 0, 0, 1): 1,\n",
       " (0, 1, 0, 0, 0, 0, 0, 0, 0, 1): 1,\n",
       " (0, 0, 1, 0, 0, 0, 0, 0, 0, 1): 1,\n",
       " (0, 0, 0, 1, 0, 0, 0, 0, 0, 1): 1,\n",
       " (0, 0, 0, 0, 1, 0, 0, 0, 0, 1): 1,\n",
       " (0, 0, 0, 0, 0, 1, 0, 0, 0, 1): 1,\n",
       " (0, 0, 0, 0, 0, 0, 1, 0, 0, 1): 1,\n",
       " (0, 0, 0, 0, 0, 0, 0, 1, 0, 1): 1,\n",
       " (0, 0, 0, 0, 0, 0, 0, 0, 1, 1): 1}"
      ]
     },
     "execution_count": 6,
     "metadata": {},
     "output_type": "execute_result"
    }
   ],
   "source": [
    "Sp = weighted_poly(M, S)\n",
    "dSp = weighted_poly(M, decompose(S))\n",
    "\n",
    "print(Sp)\n",
    "# Ensure coefficients_dict is defined before using it\n",
    "def coefficients_dict(f):\n",
    "\treturn {f.exponents()[i]: f.coefficients()[i] for i in range(len(f.coefficients()))}\n",
    "\n",
    "cdSp = coefficients_dict(dSp)\n",
    "print(len(coefficients_dict(dSp)))\n",
    "cdSp"
   ]
  },
  {
   "cell_type": "code",
   "execution_count": 7,
   "metadata": {
    "vscode": {
     "languageId": "sage"
    }
   },
   "outputs": [],
   "source": [
    "def specialize(f, S1, S2):\n",
    "    P1 = PolynomialRing(QQ, 'x', len(S1))\n",
    "    P2 = PolynomialRing(QQ, 'x', len(S2))\n",
    "    k = 0\n",
    "    for i, x in enumerate(S1):\n",
    "        subs_dict = {P2.gen(k + j): P1.gen(i) for j in range(len(x))}\n",
    "        f = f.subs(subs_dict)\n",
    "        k += len(x)\n",
    "    return f\n",
    "\n",
    "dSp1 = specialize(dSp, S, decompose(S))"
   ]
  },
  {
   "cell_type": "code",
   "execution_count": 8,
   "metadata": {
    "vscode": {
     "languageId": "sage"
    }
   },
   "outputs": [
    {
     "data": {
      "text/plain": [
       "{(1, 0, 0, 1, 0, 0, 0, 0, 0, 0): 2,\n",
       " (0, 1, 0, 1, 0, 0, 0, 0, 0, 0): 2,\n",
       " (0, 0, 1, 1, 0, 0, 0, 0, 0, 0): 2,\n",
       " (0, 0, 0, 2, 0, 0, 0, 0, 0, 0): 3,\n",
       " (1, 0, 0, 0, 1, 0, 0, 0, 0, 0): 3,\n",
       " (0, 1, 0, 0, 1, 0, 0, 0, 0, 0): 3,\n",
       " (0, 0, 1, 0, 1, 0, 0, 0, 0, 0): 3,\n",
       " (0, 0, 0, 1, 1, 0, 0, 0, 0, 0): 9,\n",
       " (0, 0, 0, 0, 2, 0, 0, 0, 0, 0): 6}"
      ]
     },
     "execution_count": 8,
     "metadata": {},
     "output_type": "execute_result"
    }
   ],
   "source": [
    "def coefficients_dict(f):\n",
    "    return {f.exponents()[i]: f.coefficients()[i] for i in range(len(f.coefficients()))}\n",
    "\n",
    "coefficients_dict(dSp1)"
   ]
  },
  {
   "cell_type": "code",
   "execution_count": 9,
   "metadata": {
    "vscode": {
     "languageId": "sage"
    }
   },
   "outputs": [
    {
     "name": "stdout",
     "output_type": "stream",
     "text": [
      "2*x0*x3 + 2*x1*x3 + 2*x2*x3 + 3*x3^2 + 3*x0*x4 + 3*x1*x4 + 3*x2*x4 + 6*x3*x4 + 6*x4^2\n"
     ]
    },
    {
     "data": {
      "text/plain": [
       "{(1, 0, 0, 1, 0): 2,\n",
       " (0, 1, 0, 1, 0): 2,\n",
       " (0, 0, 1, 1, 0): 2,\n",
       " (0, 0, 0, 2, 0): 3,\n",
       " (1, 0, 0, 0, 1): 3,\n",
       " (0, 1, 0, 0, 1): 3,\n",
       " (0, 0, 1, 0, 1): 3,\n",
       " (0, 0, 0, 1, 1): 6,\n",
       " (0, 0, 0, 0, 2): 6}"
      ]
     },
     "execution_count": 9,
     "metadata": {},
     "output_type": "execute_result"
    }
   ],
   "source": [
    "print(Sp)\n",
    "coefficients_dict(Sp)"
   ]
  },
  {
   "cell_type": "code",
   "execution_count": 10,
   "metadata": {
    "vscode": {
     "languageId": "sage"
    }
   },
   "outputs": [],
   "source": [
    "def normalize(f):\n",
    "    return sum(f.monomials()[i] * f.coefficients()[i]/prod([factorial(x) for x in f.exponents()[i]]) for i in range(len(f.coefficients())))"
   ]
  },
  {
   "cell_type": "code",
   "execution_count": 11,
   "metadata": {
    "vscode": {
     "languageId": "sage"
    }
   },
   "outputs": [
    {
     "name": "stdout",
     "output_type": "stream",
     "text": [
      "True\n",
      "True\n",
      "True\n",
      "True\n"
     ]
    }
   ],
   "source": [
    "print(normalize(Sp).is_lorentzian())        # normalized weighted polynomial of S\n",
    "print(normalize(dSp).is_lorentzian())       # normalized weighted polynomial of decompose(S)\n",
    "print(normalize(dSp1).is_lorentzian())      # normalized weighted polynomial of decompose(S)\n",
    "print(P(normalize(dSp1 - Sp)).is_lorentzian()) # normalized difference of the two polynomials"
   ]
  },
  {
   "cell_type": "code",
   "execution_count": 12,
   "metadata": {
    "vscode": {
     "languageId": "sage"
    }
   },
   "outputs": [
    {
     "name": "stdout",
     "output_type": "stream",
     "text": [
      "Input S: (frozenset({0}), frozenset({0}), frozenset({0}), frozenset({0, 1, 2}), frozenset({0, 1, 2, 3}))\n",
      "No duplicate set (size >= 2) found.\n",
      "\n",
      "==============================\n",
      "\n",
      "Input S: [{1}, {1}, {2}, {3}, {4, 5}]\n",
      "No duplicate set (size >= 2) found.\n",
      "\n",
      "==============================\n",
      "\n",
      "Input S: [{1}, {2}, {3, 4}, {5}, {3, 4}]\n",
      "--------------------\n",
      "First duplicate set T: {3, 4}\n",
      "Indices of T in S: [2, 4]\n",
      "Resulting P matrix:\n",
      "[[0 0 1 0 0]\n",
      " [0 0 1 0 0]\n",
      " [0 0 0 0 1]\n",
      " [0 0 0 0 1]\n",
      " [1 0 0 0 0]\n",
      " [0 1 0 0 0]\n",
      " [0 0 0 1 0]]\n"
     ]
    }
   ],
   "source": [
    "import numpy as np\n",
    "from collections import defaultdict\n",
    "\n",
    "def get_first_duplicate_p_matrix(S):\n",
    "  \"\"\"\n",
    "  Identifies the first duplicate set in a sequence S and computes the\n",
    "  transformation matrix P for lifting it.\n",
    "\n",
    "  A \"duplicate set\" T is defined as a set that appears at least twice\n",
    "  in the sequence S and has size |T| >= 2. The \"first\" duplicate set\n",
    "  is the one whose first appearance in S has the minimum index among all\n",
    "  duplicate sets.\n",
    "\n",
    "  Args:\n",
    "    S: A list or tuple of sets (or other iterable collections). Elements\n",
    "       within the sets should be hashable.\n",
    "\n",
    "  Returns:\n",
    "    A tuple (P, T, dup_indices) where:\n",
    "      - P: The (lk + n - l) x n transformation matrix as a NumPy array.\n",
    "      - T: The first duplicate set found (as a frozenset).\n",
    "      - dup_indices: A sorted list of the indices in S where T appears.\n",
    "    Returns None if no duplicate set (with size >= 2) is found in S.\n",
    "  \"\"\"\n",
    "  n = len(S)\n",
    "  if n == 0:\n",
    "    return None\n",
    "\n",
    "  set_counts_indices = defaultdict(list)\n",
    "  # Use frozenset for hashing\n",
    "  frozen_S = [frozenset(item) for item in S]\n",
    "\n",
    "  # Record indices for each unique frozenset\n",
    "  for i, fset in enumerate(frozen_S):\n",
    "    set_counts_indices[fset].append(i)\n",
    "\n",
    "  first_dup_set = None\n",
    "  dup_indices = []\n",
    "  min_first_index = n # Initialize higher than any possible index\n",
    "\n",
    "  # Find the first duplicate set\n",
    "  for fset, indices in set_counts_indices.items():\n",
    "    # Check conditions: |T| >= 2 and appears >= 2 times\n",
    "    if len(fset) >= 2 and len(indices) >= 2:\n",
    "      first_index = indices[0]\n",
    "      if first_index < min_first_index:\n",
    "        min_first_index = first_index\n",
    "        first_dup_set = fset\n",
    "        # Keep indices sorted for consistent row mapping later\n",
    "        dup_indices = sorted(indices)\n",
    "\n",
    "  # If no duplicate set was found\n",
    "  if first_dup_set is None:\n",
    "    return None\n",
    "\n",
    "  T = first_dup_set\n",
    "  l = len(dup_indices) # Number of times T appears\n",
    "  k = len(T)           # Size of T\n",
    "  t_elements = sorted(list(T)) # Consistent order for elements\n",
    "\n",
    "  # Calculate dimensions for P and lifted sequence\n",
    "  n_tilde = l * k + (n - l)\n",
    "\n",
    "  # Initialize P matrix\n",
    "  P = np.zeros((n_tilde, n), dtype=int) # Integer entries\n",
    "\n",
    "  # Get indices of the sets that are *not* the chosen duplicate T\n",
    "  other_indices = sorted([i for i in range(n) if i not in dup_indices])\n",
    "\n",
    "  # --- Construct P ---\n",
    "  # Map original indices to row indices in P\n",
    "\n",
    "  # Rows 0 to lk-1 correspond to the l*k singletons\n",
    "  # Map duplicate index to its position (0 to l-1) among duplicates\n",
    "  dup_idx_to_pos = {idx: i for i, idx in enumerate(dup_indices)}\n",
    "\n",
    "  # Rows lk to n_tilde-1 correspond to the other sets\n",
    "  # Map other index to its row position (lk to n_tilde-1)\n",
    "  other_idx_to_row = {idx: l*k + i for i, idx in enumerate(other_indices)}\n",
    "\n",
    "  # Fill columns of P\n",
    "  for c in range(n): # Iterate through columns (original indices 0 to n-1)\n",
    "    if c in dup_indices:\n",
    "      # This column corresponds to a duplicate set T\n",
    "      pos = dup_idx_to_pos[c] # Which copy of T is this (0 to l-1)\n",
    "      start_row = pos * k\n",
    "      end_row = start_row + k\n",
    "      # Set the block of k rows corresponding to this T's singletons to 1\n",
    "      P[start_row:end_row, c] = 1\n",
    "    else:\n",
    "      # This column corresponds to a non-duplicate set\n",
    "      row = other_idx_to_row[c]\n",
    "      # Set the single corresponding row to 1\n",
    "      P[row, c] = 1\n",
    "\n",
    "  return P, T, dup_indices\n",
    "\n",
    "# --- Example Usage ---\n",
    "# Example from the document [cite: 102] (adjusted slightly for set notation)\n",
    "S_example = S\n",
    "result = get_first_duplicate_p_matrix(S_example)\n",
    "\n",
    "if result:\n",
    "  P_matrix, T_set, indices = result\n",
    "  print(\"Input S:\", S_example)\n",
    "  print(\"-\" * 20)\n",
    "  print(\"First duplicate set T:\", set(T_set)) # Display as regular set\n",
    "  print(\"Indices of T in S:\", indices)\n",
    "  print(\"Resulting P matrix:\")\n",
    "  print(P_matrix)\n",
    "else:\n",
    "  print(\"Input S:\", S_example)\n",
    "  print(\"No duplicate set (size >= 2) found.\")\n",
    "\n",
    "print(\"\\n\" + \"=\" * 30 + \"\\n\")\n",
    "\n",
    "# Example with no duplicates >= size 2\n",
    "S_no_dup = [{1}, {1}, {2}, {3}, {4, 5}]\n",
    "result_no_dup = get_first_duplicate_p_matrix(S_no_dup)\n",
    "\n",
    "if result_no_dup:\n",
    "    P_matrix, T_set, indices = result_no_dup\n",
    "    print(\"Input S:\", S_no_dup)\n",
    "    print(\"-\" * 20)\n",
    "    print(\"First duplicate set T:\", set(T_set))\n",
    "    print(\"Indices of T in S:\", indices)\n",
    "    print(\"Resulting P matrix:\")\n",
    "    print(P_matrix)\n",
    "else:\n",
    "    print(\"Input S:\", S_no_dup)\n",
    "    print(\"No duplicate set (size >= 2) found.\")\n",
    "\n",
    "print(\"\\n\" + \"=\" * 30 + \"\\n\")\n",
    "\n",
    "# Example where first duplicate appears later\n",
    "S_later_dup = [{1}, {2}, {3, 4}, {5}, {3, 4}]\n",
    "result_later_dup = get_first_duplicate_p_matrix(S_later_dup)\n",
    "\n",
    "if result_later_dup:\n",
    "    P_matrix, T_set, indices = result_later_dup\n",
    "    print(\"Input S:\", S_later_dup)\n",
    "    print(\"-\" * 20)\n",
    "    print(\"First duplicate set T:\", set(T_set))\n",
    "    print(\"Indices of T in S:\", indices)\n",
    "    print(\"Resulting P matrix:\")\n",
    "    print(P_matrix)\n",
    "else:\n",
    "    print(\"Input S:\", S_later_dup)\n",
    "    print(\"No duplicate set (size >= 2) found.\")"
   ]
  },
  {
   "cell_type": "code",
   "execution_count": 13,
   "metadata": {
    "vscode": {
     "languageId": "sage"
    }
   },
   "outputs": [
    {
     "name": "stdout",
     "output_type": "stream",
     "text": [
      "Bases: [frozenset({0, 1}), frozenset({0, 2}), frozenset({0, 3}), frozenset({0, 4}), frozenset({0, 5}), frozenset({1, 2}), frozenset({1, 3}), frozenset({1, 4}), frozenset({1, 5}), frozenset({2, 3}), frozenset({2, 4}), frozenset({2, 5}), frozenset({3, 4}), frozenset({3, 5}), frozenset({4, 5})]\n",
      "--------------------\n",
      "Input S: (frozenset({0}), frozenset({0}), frozenset({0}), frozenset({0, 1, 2}), frozenset({0, 1, 2, 3}))\n",
      "--------------------\n",
      "Calculated A(S) matrix:\n",
      "[[0 0 0 2 3]\n",
      " [0 0 0 2 3]\n",
      " [0 0 0 2 3]\n",
      " [2 2 2 3 6]\n",
      " [3 3 3 6 6]]\n"
     ]
    }
   ],
   "source": [
    "def get_A_matrix(S, bases):\n",
    "    \"\"\"\n",
    "    Calculates the coefficient matrix A(S) for a rank 2 matroid.\n",
    "\n",
    "    The matrix A(S) is an n x n symmetric matrix where n = len(S).\n",
    "    - A[i, i] = c_ii(S) = number of bases B such that B is a subset of S_i.\n",
    "    - A[i, j] = c_ij(S) = number of bases B = {b1, b2} such that\n",
    "                        (b1 in S_i and b2 in S_j) or (b1 in S_j and b2 in S_i).\n",
    "                        This corresponds to the coefficient of x_i * x_j in the\n",
    "                        (denormalized) based cover class polynomial.\n",
    "\n",
    "    Args:\n",
    "    S: A list or tuple of sets (or other iterable collections), representing\n",
    "        the sequence (S_1, ..., S_n). Elements within the sets should be\n",
    "        hashable.\n",
    "    bases: An iterable collection of sets or frozensets, where each inner\n",
    "            set represents a base B of the rank 2 matroid M. All bases B\n",
    "            must have |B| = 2.\n",
    "\n",
    "    Returns:\n",
    "    A NumPy array representing the n x n symmetric matrix A(S).\n",
    "    Returns None if bases are not all of size 2.\n",
    "    \"\"\"\n",
    "    n = len(S)\n",
    "    if n == 0:\n",
    "        return np.zeros((0, 0), dtype=int)\n",
    "\n",
    "    # Convert S_i to sets for efficient lookup\n",
    "    S_sets = [set(s_i) for s_i in S]\n",
    "\n",
    "    # Initialize A matrix\n",
    "    A = np.zeros((n, n), dtype=int)\n",
    "\n",
    "    # Check if bases are valid (all size 2) and convert to frozensets\n",
    "    processed_bases = []\n",
    "    for B in bases:\n",
    "        if len(B) != 2:\n",
    "            print(f\"Error: Base {B} does not have size 2. Matroid must be rank 2.\")\n",
    "            return None\n",
    "        processed_bases.append(frozenset(B))\n",
    "\n",
    "    # Iterate through each base B in the matroid M\n",
    "    for B in processed_bases:\n",
    "        b1, b2 = tuple(B) # Get the two elements of the base\n",
    "\n",
    "        # Calculate diagonal entries A[i, i] = c_ii(S)\n",
    "        for i in range(n):\n",
    "            # Check if B is a subset of S_i\n",
    "            if B.issubset(S_sets[i]):\n",
    "                A[i, i] += 1\n",
    "\n",
    "        # Calculate off-diagonal entries A[i, j] = c_ij(S) for i < j\n",
    "        for i in range(n):\n",
    "            for j in range(i + 1, n):\n",
    "                # Check if one element is in S_i and the other is in S_j\n",
    "                if (b1 in S_sets[i] and b2 in S_sets[j]) or \\\n",
    "                (b1 in S_sets[j] and b2 in S_sets[i]):\n",
    "                    A[i, j] += 1\n",
    "                    A[j, i] += 1 # Maintain symmetry\n",
    "\n",
    "    return A\n",
    "\n",
    "bases = list(bases_iterator(M))\n",
    "\n",
    "A = get_A_matrix(S, bases)\n",
    "\n",
    "print(\"Bases:\", bases)\n",
    "print(\"-\" * 20)\n",
    "print(\"Input S:\", S)\n",
    "print(\"-\" * 20)\n",
    "print(\"Calculated A(S) matrix:\")\n",
    "print(A)"
   ]
  },
  {
   "cell_type": "code",
   "execution_count": 14,
   "metadata": {
    "vscode": {
     "languageId": "sage"
    }
   },
   "outputs": [
    {
     "data": {
      "text/plain": [
       "array([[0, 0, 1, 1, 1, 1],\n",
       "       [0, 0, 1, 1, 1, 1],\n",
       "       [1, 1, 0, 0, 1, 1],\n",
       "       [1, 1, 0, 0, 1, 1],\n",
       "       [1, 1, 1, 1, 0, 1],\n",
       "       [1, 1, 1, 1, 1, 0]])"
      ]
     },
     "execution_count": 14,
     "metadata": {},
     "output_type": "execute_result"
    }
   ],
   "source": [
    "\"\"\"\n",
    "S = (frozenset({0}), frozenset({1}), frozenset({0, 2}),\n",
    "    frozenset({0, 2}), frozenset({3}))\n",
    "\"\"\"\n",
    "dS = (frozenset({0}), frozenset({0}), frozenset({2}),\n",
    "    frozenset({2}), frozenset({1}), frozenset({3}))\n",
    "ASp = get_A_matrix(dS, bases)\n",
    "ASp"
   ]
  },
  {
   "cell_type": "code",
   "execution_count": 15,
   "metadata": {
    "vscode": {
     "languageId": "sage"
    }
   },
   "outputs": [
    {
     "data": {
      "text/plain": [
       "[1 0 0 0]\n",
       "[0 1 0 0]\n",
       "[1 0 0 0]\n",
       "[0 1 0 0]\n",
       "[0 0 1 0]\n",
       "[0 0 0 1]"
      ]
     },
     "execution_count": 15,
     "metadata": {},
     "output_type": "execute_result"
    }
   ],
   "source": [
    "result = get_first_duplicate_p_matrix(S)\n",
    "P = Matrix([[1, 0, 0, 0],\n",
    "            [0, 1, 0, 0],\n",
    "            [1, 0, 0, 0],\n",
    "            [0, 1, 0, 0],\n",
    "            [0, 0, 1, 0],\n",
    "            [0, 0, 0, 1]])\n",
    "P"
   ]
  },
  {
   "cell_type": "code",
   "execution_count": 16,
   "metadata": {
    "vscode": {
     "languageId": "sage"
    }
   },
   "outputs": [
    {
     "data": {
      "text/plain": [
       "array([[2, 2, 2, 2],\n",
       "       [2, 2, 2, 2],\n",
       "       [2, 2, 0, 1],\n",
       "       [2, 2, 1, 0]])"
      ]
     },
     "execution_count": 16,
     "metadata": {},
     "output_type": "execute_result"
    }
   ],
   "source": [
    "Q  = P.transpose() @ ASp\n",
    "R = Q @ P\n",
    "R"
   ]
  },
  {
   "cell_type": "code",
   "execution_count": 17,
   "metadata": {
    "vscode": {
     "languageId": "sage"
    }
   },
   "outputs": [
    {
     "ename": "ValueError",
     "evalue": "operands could not be broadcast together with shapes (4,4) (5,5) ",
     "output_type": "error",
     "traceback": [
      "\u001b[0;31m---------------------------------------------------------------------------\u001b[0m",
      "\u001b[0;31mValueError\u001b[0m                                Traceback (most recent call last)",
      "Cell \u001b[0;32mIn[17], line 1\u001b[0m\n\u001b[0;32m----> 1\u001b[0m \u001b[43mR\u001b[49m\u001b[38;5;241;43m-\u001b[39;49m\u001b[43mA\u001b[49m\n",
      "\u001b[0;31mValueError\u001b[0m: operands could not be broadcast together with shapes (4,4) (5,5) "
     ]
    }
   ],
   "source": [
    "R-A"
   ]
  }
 ],
 "metadata": {
  "kernelspec": {
   "display_name": "SageMath 10.3",
   "language": "sage",
   "name": "sagemath"
  },
  "language_info": {
   "codemirror_mode": {
    "name": "ipython",
    "version": 3
   },
   "file_extension": ".py",
   "mimetype": "text/x-python",
   "name": "python",
   "nbconvert_exporter": "python",
   "pygments_lexer": "ipython3",
   "version": "3.11.9"
  }
 },
 "nbformat": 4,
 "nbformat_minor": 2
}
