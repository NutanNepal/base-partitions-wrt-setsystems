{
 "cells": [
  {
   "cell_type": "code",
   "execution_count": 770,
   "id": "4efd2309",
   "metadata": {},
   "outputs": [],
   "source": [
    "from itertools import combinations, product\n",
    "\n",
    "def choose_from_sets(S, a):\n",
    "    \"\"\"\n",
    "    S: list of sets [S1, S2, ..., Sk]\n",
    "    a: list of non-negative integers [a1, ..., ak], sum(a) = m-2\n",
    "    Returns: list of sets, each of size m-2, formed by choosing ai elements from Si\n",
    "    \"\"\"\n",
    "    # For each Si, get all subsets of size ai\n",
    "    p = sum(a)\n",
    "    choices = []\n",
    "    for Si, ai in zip(S, a):\n",
    "        if ai > len(Si):\n",
    "            return []  # Not possible to choose more than available\n",
    "        choices.append(list(combinations(Si, ai)))\n",
    "    # Cartesian product of choices\n",
    "    result = set()\n",
    "    for prod in product(*choices):\n",
    "        # prod is a tuple of tuples, flatten to a set\n",
    "        combined = set()\n",
    "        for subset in prod:\n",
    "            combined.update(subset)\n",
    "        if len(combined) == p:  result.add(tuple(sorted(combined)))\n",
    "    return result"
   ]
  },
  {
   "cell_type": "code",
   "execution_count": 771,
   "id": "fba4b012",
   "metadata": {},
   "outputs": [],
   "source": [
    "def log_concavity_check(S, a, i, j):\n",
    "    \"\"\"\n",
    "    S: list of sets\n",
    "    a: list of non-negative integers\n",
    "    i, j: indices (1-based) to increment\n",
    "    Returns: bool where bool is the result of the log-concavity check\n",
    "    \"\"\"\n",
    "    a2 = a.copy()\n",
    "    a3 = a.copy()\n",
    "    a_mid = a.copy()\n",
    "    a2[i-1] += 2\n",
    "    a3[j-1] += 2\n",
    "    a_mid[i-1] += 1\n",
    "    a_mid[j-1] += 1\n",
    "    p2 = choose_from_sets(S, a2)\n",
    "    p3 = choose_from_sets(S, a3)\n",
    "    p_mid = choose_from_sets(S, a_mid)\n",
    "    lc = len(p2) * len(p3) <= len(p_mid) ** 2\n",
    "    print(f\"{len(p2)} * {len(p3)} <= {len(p_mid) ** 2}\")\n",
    "    return lc"
   ]
  },
  {
   "cell_type": "code",
   "execution_count": 772,
   "id": "72c02a7e",
   "metadata": {},
   "outputs": [],
   "source": [
    "import random\n",
    "\n",
    "def random_subset_sequence(n, k=None, min_size=1, max_size=None, seed=None):\n",
    "    if seed is not None:\n",
    "        random.seed(int(seed))\n",
    "    n = int(n)\n",
    "    if k is None:\n",
    "        k = random.randint(2, n)\n",
    "    else:\n",
    "        k = int(k)\n",
    "    min_size = int(min_size)\n",
    "    if max_size is None:\n",
    "        max_size = n\n",
    "    else:\n",
    "        max_size = int(max_size)\n",
    "\n",
    "    S = []\n",
    "    for _ in range(k):\n",
    "        size = random.randint(min_size, max_size)\n",
    "        Si = set(random.sample(range(1, n+1), size))\n",
    "        S.append(Si)\n",
    "    return S"
   ]
  },
  {
   "cell_type": "code",
   "execution_count": 773,
   "id": "75036701",
   "metadata": {},
   "outputs": [
    {
     "name": "stdout",
     "output_type": "stream",
     "text": [
      "[{1, 2, 3, 4, 5, 6, 7, 8, 9}, {9, 2, 5, 6}, {2, 3, 4, 5, 6, 8, 9}, {1, 2, 4, 5, 7, 9}]\n",
      "Union: {1, 2, 3, 4, 5, 6, 7, 8, 9}\n"
     ]
    }
   ],
   "source": [
    "n = 9\n",
    "S = random_subset_sequence(n, k=4, min_size=2, max_size=n)\n",
    "print(S)\n",
    "print(\"Union:\", set().union(*S))"
   ]
  },
  {
   "cell_type": "code",
   "execution_count": 774,
   "id": "3bbc6783",
   "metadata": {},
   "outputs": [
    {
     "name": "stdout",
     "output_type": "stream",
     "text": [
      "9 * 5 <= 81\n",
      "True\n",
      "9 * 9 <= 81\n",
      "True\n",
      "9 * 9 <= 81\n",
      "True\n",
      "5 * 9 <= 81\n",
      "True\n",
      "5 * 9 <= 81\n",
      "True\n",
      "9 * 9 <= 81\n",
      "True\n"
     ]
    }
   ],
   "source": [
    "a = [1, 2, 2, 1]\n",
    "\n",
    "for i, j in combinations(range(1, len(a) + 1), 2):\n",
    "    print(log_concavity_check(S, a, i, j))"
   ]
  }
 ],
 "metadata": {
  "kernelspec": {
   "display_name": "SageMath 10.3",
   "language": "sage",
   "name": "sagemath"
  },
  "language_info": {
   "codemirror_mode": {
    "name": "ipython",
    "version": 3
   },
   "file_extension": ".py",
   "mimetype": "text/x-python",
   "name": "sage",
   "nbconvert_exporter": "python",
   "pygments_lexer": "ipython3",
   "version": "3.11.9"
  }
 },
 "nbformat": 4,
 "nbformat_minor": 5
}
