{
 "cells": [
  {
   "cell_type": "code",
   "execution_count": 99,
   "metadata": {
    "vscode": {
     "languageId": "sage"
    }
   },
   "outputs": [
    {
     "data": {
      "text/plain": [
       "[frozenset({0, 1}),\n",
       " frozenset({0, 2}),\n",
       " frozenset({0, 3}),\n",
       " frozenset({1, 2}),\n",
       " frozenset({1, 3}),\n",
       " frozenset({2, 3})]"
      ]
     },
     "execution_count": 99,
     "metadata": {},
     "output_type": "execute_result"
    }
   ],
   "source": [
    "import sys\n",
    "sys.path.append('..')\n",
    "from modified_sage_funcs import *\n",
    "from imp_funcs import *\n",
    "\n",
    "r, n = 2, 4\n",
    "M = matroids.Uniform(r, n)\n",
    "d = M.full_rank()\n",
    "S = (frozenset({0}), frozenset({0}), frozenset({1}), frozenset({0}), frozenset({1}), frozenset({2}))\n",
    "k = len(S)\n",
    "\n",
    "bases = sorted([frozenset(sorted(X)) for X in bases_iterator(M)])\n",
    "bases"
   ]
  },
  {
   "cell_type": "code",
   "execution_count": 100,
   "metadata": {
    "vscode": {
     "languageId": "sage"
    }
   },
   "outputs": [
    {
     "data": {
      "text/plain": [
       "{0: [1, 1, 0, 0, 0, 0],\n",
       " 1: [1, 0, 1, 0, 0, 0],\n",
       " 2: [1, 0, 0, 1, 0, 0],\n",
       " 3: [1, 0, 0, 0, 1, 0],\n",
       " 4: [1, 0, 0, 0, 0, 1],\n",
       " 5: [0, 1, 1, 0, 0, 0],\n",
       " 6: [0, 1, 0, 1, 0, 0],\n",
       " 7: [0, 1, 0, 0, 1, 0],\n",
       " 8: [0, 1, 0, 0, 0, 1],\n",
       " 9: [0, 0, 1, 1, 0, 0],\n",
       " 10: [0, 0, 1, 0, 1, 0],\n",
       " 11: [0, 0, 1, 0, 0, 1],\n",
       " 12: [0, 0, 0, 1, 1, 0],\n",
       " 13: [0, 0, 0, 1, 0, 1],\n",
       " 14: [0, 0, 0, 0, 1, 1],\n",
       " 15: [2, 0, 0, 0, 0, 0],\n",
       " 16: [0, 2, 0, 0, 0, 0],\n",
       " 17: [0, 0, 2, 0, 0, 0],\n",
       " 18: [0, 0, 0, 2, 0, 0],\n",
       " 19: [0, 0, 0, 0, 2, 0],\n",
       " 20: [0, 0, 0, 0, 0, 2]}"
      ]
     },
     "execution_count": 100,
     "metadata": {},
     "output_type": "execute_result"
    }
   ],
   "source": [
    "indexed_compositions = {i : x for i, x in enumerate(weak_compositions(d, k))}\n",
    "indexed_compositions"
   ]
  },
  {
   "cell_type": "code",
   "execution_count": 101,
   "metadata": {
    "vscode": {
     "languageId": "sage"
    }
   },
   "outputs": [],
   "source": [
    "from itertools import permutations\n",
    "\n",
    "def partitions(basis, weak_comp):\n",
    "    parts = set()\n",
    "    for perm in permutations(basis):\n",
    "        partition = []\n",
    "        start = 0\n",
    "        for size in weak_comp:\n",
    "            partition.append(frozenset(perm[start:start + size]))\n",
    "            start += size\n",
    "        parts.add(tuple(partition))\n",
    "    return tuple(parts)\n",
    "\n",
    "def base_partitions(bases, indexed_compositions):\n",
    "    bases_partitions = {}\n",
    "    for basis in bases:\n",
    "        base_partitions = {}\n",
    "        for i in indexed_compositions:\n",
    "            base_partitions[i] = partitions(tuple(basis), indexed_compositions[i])\n",
    "        bases_partitions[basis] = base_partitions\n",
    "    return bases_partitions\n",
    "\n",
    "base_partitions = base_partitions(bases, indexed_compositions)\n"
   ]
  },
  {
   "cell_type": "code",
   "execution_count": 102,
   "metadata": {
    "vscode": {
     "languageId": "sage"
    }
   },
   "outputs": [
    {
     "data": {
      "text/plain": [
       "{0: 0,\n",
       " 1: 1,\n",
       " 2: 0,\n",
       " 3: 1,\n",
       " 4: 1,\n",
       " 5: 1,\n",
       " 6: 0,\n",
       " 7: 1,\n",
       " 8: 1,\n",
       " 9: 1,\n",
       " 10: 0,\n",
       " 11: 1,\n",
       " 12: 1,\n",
       " 13: 1,\n",
       " 14: 1,\n",
       " 15: 0,\n",
       " 16: 0,\n",
       " 17: 0,\n",
       " 18: 0,\n",
       " 19: 0,\n",
       " 20: 0}"
      ]
     },
     "execution_count": 102,
     "metadata": {},
     "output_type": "execute_result"
    }
   ],
   "source": [
    "def composition_weight(iwc, set_system):\n",
    "    weights = {}\n",
    "    \n",
    "    for i in iwc:\n",
    "        weight = 0\n",
    "        for basis in bases:\n",
    "            for basis_partition in base_partitions[basis][i]:\n",
    "                flag = True\n",
    "                for x, y, z in zip(iwc[i], basis_partition, set_system):\n",
    "                    if len(y.intersection(z)) == x:\n",
    "                        continue\n",
    "                    else:\n",
    "                        flag = False\n",
    "                        break\n",
    "                if flag:\n",
    "                    weight += 1\n",
    "                    break\n",
    "        weights[i] = weight\n",
    "    return weights\n",
    "\n",
    "weights = composition_weight(indexed_compositions, S)\n",
    "\n",
    "weights"
   ]
  },
  {
   "cell_type": "code",
   "execution_count": 103,
   "metadata": {
    "vscode": {
     "languageId": "sage"
    }
   },
   "outputs": [
    {
     "name": "stdout",
     "output_type": "stream",
     "text": [
      "{0: [1, 1, 0, 0, 0, 0], 1: [1, 0, 1, 0, 0, 0], 2: [1, 0, 0, 1, 0, 0], 3: [1, 0, 0, 0, 1, 0], 4: [1, 0, 0, 0, 0, 1], 5: [0, 1, 1, 0, 0, 0], 6: [0, 1, 0, 1, 0, 0], 7: [0, 1, 0, 0, 1, 0], 8: [0, 1, 0, 0, 0, 1], 9: [0, 0, 1, 1, 0, 0], 10: [0, 0, 1, 0, 1, 0], 11: [0, 0, 1, 0, 0, 1], 12: [0, 0, 0, 1, 1, 0], 13: [0, 0, 0, 1, 0, 1], 14: [0, 0, 0, 0, 1, 1], 15: [2, 0, 0, 0, 0, 0], 16: [0, 2, 0, 0, 0, 0], 17: [0, 0, 2, 0, 0, 0], 18: [0, 0, 0, 2, 0, 0], 19: [0, 0, 0, 0, 2, 0], 20: [0, 0, 0, 0, 0, 2]}\n"
     ]
    },
    {
     "data": {
      "text/plain": [
       "x0*x2 + x1*x2 + x2*x3 + x0*x4 + x1*x4 + x3*x4 + x0*x5 + x1*x5 + x2*x5 + x3*x5 + x4*x5"
      ]
     },
     "execution_count": 103,
     "metadata": {},
     "output_type": "execute_result"
    }
   ],
   "source": [
    "P = PolynomialRing(QQ, 'x', k)\n",
    "\n",
    "def monomial(wc):\n",
    "    return prod([P.gen(i)**wc[i] for i in range(len(wc))])/prod([factorial(x) for x in wc])\n",
    "\n",
    "def monomial2(wc):\n",
    "    return prod([P.gen(i)**wc[i] for i in range(len(wc))])\n",
    "\n",
    "def normalized_weighted_sum(weights):\n",
    "    return sum([weights[i]*monomial(indexed_compositions[i]) for i in weights])\n",
    "\n",
    "def weighted_sum(weights):\n",
    "    return sum([weights[i]*monomial2(indexed_compositions[i]) for i in weights])\n",
    "\n",
    "print(indexed_compositions)\n",
    "poly = weighted_sum(composition_weight(indexed_compositions, S))\n",
    "poly.factor()"
   ]
  },
  {
   "cell_type": "code",
   "execution_count": 104,
   "metadata": {
    "vscode": {
     "languageId": "sage"
    }
   },
   "outputs": [
    {
     "data": {
      "text/plain": [
       "True"
      ]
     },
     "execution_count": 104,
     "metadata": {},
     "output_type": "execute_result"
    }
   ],
   "source": [
    "poly.is_lorentzian()"
   ]
  }
 ],
 "metadata": {
  "kernelspec": {
   "display_name": "SageMath 10.3",
   "language": "sage",
   "name": "SageMath-10.3"
  },
  "language_info": {
   "codemirror_mode": {
    "name": "ipython",
    "version": 3
   },
   "file_extension": ".py",
   "mimetype": "text/x-python",
   "name": "python",
   "nbconvert_exporter": "python",
   "pygments_lexer": "ipython3",
   "version": "3.11.8"
  }
 },
 "nbformat": 4,
 "nbformat_minor": 2
}
