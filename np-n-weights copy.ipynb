{
 "cells": [
  {
   "cell_type": "code",
   "execution_count": 1,
   "metadata": {
    "vscode": {
     "languageId": "sage"
    }
   },
   "outputs": [],
   "source": [
    "import sys\n",
    "sys.path.append('..')\n",
    "from itertools import permutations\n",
    "from modified_sage_funcs import *\n",
    "from imp_funcs import *\n",
    "\n",
    "n = 5\n",
    "M = matroids.CompleteGraphic(5)\n",
    "r = M.rank()\n",
    "S = (frozenset({0, 1, 2, 3, 4}), frozenset({2, 3, 4, 5, 6, 7}))\n",
    "k = len(S)\n",
    "P = PolynomialRing(QQ, 'x', k)"
   ]
  },
  {
   "cell_type": "code",
   "execution_count": 2,
   "metadata": {
    "vscode": {
     "languageId": "sage"
    }
   },
   "outputs": [],
   "source": [
    "\n",
    "\n",
    "def partitions(basis, weak_comp):\n",
    "    \"\"\"\n",
    "    partitions a basis into weak components\n",
    "    \"\"\"\n",
    "    parts = set()\n",
    "    for perm in permutations(basis):\n",
    "        partition = []\n",
    "        start = 0\n",
    "        for size in weak_comp:\n",
    "            partition.append(frozenset(perm[start:start + size]))\n",
    "            start += size\n",
    "        parts.add(tuple(partition))\n",
    "    return tuple(parts)\n",
    "\n",
    "def base_partitions(bases, indexed_compositions):\n",
    "    \"\"\"\n",
    "    partitions each basis into weak components\n",
    "    \"\"\"\n",
    "    bases_partitions = {}\n",
    "    for basis in bases:\n",
    "        base_partitions = {}\n",
    "        for i in indexed_compositions:\n",
    "            base_partitions[i] = partitions(tuple(basis), indexed_compositions[i])\n",
    "        bases_partitions[basis] = base_partitions\n",
    "    return bases_partitions\n"
   ]
  },
  {
   "cell_type": "code",
   "execution_count": 3,
   "metadata": {
    "vscode": {
     "languageId": "sage"
    }
   },
   "outputs": [],
   "source": [
    "def composition_weight(iwc, set_system, bp):\n",
    "    \"\"\"\n",
    "    computes the weight of each composition\n",
    "    \"\"\"\n",
    "    weights = {}\n",
    "    for i in iwc:\n",
    "        weight = 0\n",
    "        for basis in bp:\n",
    "            for basis_partition in bp[basis][i]:\n",
    "                flag = True\n",
    "                for x, y, z in zip(iwc[i], basis_partition, set_system):\n",
    "                    if len(y.intersection(z)) == x:\n",
    "                        continue\n",
    "                    else:\n",
    "                        flag = False\n",
    "                        break\n",
    "                if flag:\n",
    "                    weight += 1\n",
    "                    break\n",
    "        weights[i] = weight\n",
    "    return weights"
   ]
  },
  {
   "cell_type": "code",
   "execution_count": 4,
   "metadata": {
    "vscode": {
     "languageId": "sage"
    }
   },
   "outputs": [],
   "source": [
    "def weighted_poly(M, set_system):\n",
    "    d, n = M.full_rank(), len(M.groundset())\n",
    "    k = len(set_system)\n",
    "    P = PolynomialRing(QQ, 'x', k)\n",
    "    bases = sorted([frozenset(sorted(X)) for X in bases_iterator(M)])\n",
    "    indexed_compositions = {i : x for i, x in enumerate(weak_compositions(d, k))}\n",
    "    bp = base_partitions(bases, indexed_compositions)\n",
    "    weights = composition_weight(indexed_compositions, set_system, bp)\n",
    "    def monomial(wc):\n",
    "        return prod([P.gen(i)**wc[i] for i in range(len(wc))])\n",
    "    def weighted_sum(weights):\n",
    "        return sum([weights[i]*monomial(indexed_compositions[i]) for i in weights])\n",
    "    return weighted_sum(weights)"
   ]
  },
  {
   "cell_type": "code",
   "execution_count": 5,
   "metadata": {
    "vscode": {
     "languageId": "sage"
    }
   },
   "outputs": [
    {
     "data": {
      "text/plain": [
       "{0: [1, 3], 1: [2, 2], 2: [3, 1], 3: [4, 0], 4: [0, 4]}"
      ]
     },
     "execution_count": 5,
     "metadata": {},
     "output_type": "execute_result"
    }
   ],
   "source": [
    "def decompose(S):\n",
    "    return tuple(frozenset([x]) for sets in S for x in sets)\n",
    "\n",
    "indexed_compositions = {i : x for i, x in enumerate(weak_compositions(r, k))}\n",
    "indexed_compositions"
   ]
  },
  {
   "cell_type": "code",
   "execution_count": 6,
   "metadata": {
    "vscode": {
     "languageId": "sage"
    }
   },
   "outputs": [
    {
     "name": "stdout",
     "output_type": "stream",
     "text": [
      "3*x0^4 + 18*x0^3*x1 + 36*x0^2*x1^2 + 34*x0*x1^3 + 11*x1^4\n",
      "x0*x1*x2*x3 + x0*x2*x3*x4 + x1*x2*x3*x4 + x0*x1*x3*x5 + x0*x3*x4*x5 + x1*x3*x4*x5 + x0*x1*x2*x6 + x0*x2*x4*x6 + x1*x2*x4*x6 + x0*x1*x5*x6 + x0*x4*x5*x6 + x1*x4*x5*x6 + x0*x2*x3*x7 + x1*x2*x3*x7 + x0*x3*x5*x7 + x1*x3*x5*x7 + x0*x2*x6*x7 + x1*x2*x6*x7 + x0*x5*x6*x7 + x1*x5*x6*x7 + x0*x1*x3*x8 + x1*x2*x3*x8 + x0*x3*x4*x8 + x1*x3*x4*x8 + x2*x3*x4*x8 + x1*x3*x5*x8 + x3*x4*x5*x8 + x0*x1*x6*x8 + x1*x2*x6*x8 + x0*x4*x6*x8 + x1*x4*x6*x8 + x2*x4*x6*x8 + x1*x5*x6*x8 + x4*x5*x6*x8 + x0*x3*x7*x8 + x1*x3*x7*x8 + x2*x3*x7*x8 + x3*x5*x7*x8 + x0*x6*x7*x8 + x1*x6*x7*x8 + x2*x6*x7*x8 + x5*x6*x7*x8 + x0*x1*x2*x9 + x1*x2*x3*x9 + x0*x2*x4*x9 + x1*x2*x4*x9 + x2*x3*x4*x9 + x0*x1*x5*x9 + x1*x3*x5*x9 + x0*x4*x5*x9 + x1*x4*x5*x9 + x3*x4*x5*x9 + x1*x2*x6*x9 + x2*x4*x6*x9 + x1*x5*x6*x9 + x4*x5*x6*x9 + x0*x2*x7*x9 + x1*x2*x7*x9 + x2*x3*x7*x9 + x0*x5*x7*x9 + x1*x5*x7*x9 + x3*x5*x7*x9 + x2*x6*x7*x9 + x5*x6*x7*x9 + x0*x1*x8*x9 + x1*x2*x8*x9 + x1*x3*x8*x9 + x0*x4*x8*x9 + x1*x4*x8*x9 + x2*x4*x8*x9 + x3*x4*x8*x9 + x1*x5*x8*x9 + x4*x5*x8*x9 + x1*x6*x8*x9 + x4*x6*x8*x9 + x0*x7*x8*x9 + x1*x7*x8*x9 + x2*x7*x8*x9 + x3*x7*x8*x9 + x5*x7*x8*x9 + x6*x7*x8*x9 + x0*x1*x3*x10 + x0*x2*x3*x10 + x0*x3*x4*x10 + x1*x3*x4*x10 + x2*x3*x4*x10 + x0*x3*x5*x10 + x3*x4*x5*x10 + x0*x1*x6*x10 + x0*x2*x6*x10 + x0*x4*x6*x10 + x1*x4*x6*x10 + x2*x4*x6*x10 + x0*x5*x6*x10 + x4*x5*x6*x10 + x0*x3*x7*x10 + x1*x3*x7*x10 + x2*x3*x7*x10 + x3*x5*x7*x10 + x0*x6*x7*x10 + x1*x6*x7*x10 + x2*x6*x7*x10 + x5*x6*x7*x10 + x0*x3*x8*x10 + x1*x3*x8*x10 + x2*x3*x8*x10 + x3*x5*x8*x10 + x0*x6*x8*x10 + x1*x6*x8*x10 + x2*x6*x8*x10 + x5*x6*x8*x10 + x0*x1*x9*x10 + x0*x2*x9*x10 + x1*x3*x9*x10 + x2*x3*x9*x10 + x0*x4*x9*x10 + x1*x4*x9*x10 + x2*x4*x9*x10 + x3*x4*x9*x10 + x0*x5*x9*x10 + x3*x5*x9*x10 + x4*x5*x9*x10 + x1*x6*x9*x10 + x2*x6*x9*x10 + x4*x6*x9*x10 + x5*x6*x9*x10 + x0*x7*x9*x10 + x1*x7*x9*x10 + x2*x7*x9*x10 + x3*x7*x9*x10 + x5*x7*x9*x10 + x6*x7*x9*x10 + x0*x8*x9*x10 + x1*x8*x9*x10 + x2*x8*x9*x10 + x3*x8*x9*x10 + x5*x8*x9*x10 + x6*x8*x9*x10\n"
     ]
    }
   ],
   "source": [
    "Sp = weighted_poly(M, S)\n",
    "dSp = weighted_poly(M, decompose(S))\n",
    "\n",
    "print(Sp)\n",
    "print(dSp)"
   ]
  },
  {
   "cell_type": "code",
   "execution_count": 7,
   "metadata": {
    "vscode": {
     "languageId": "sage"
    }
   },
   "outputs": [
    {
     "name": "stdout",
     "output_type": "stream",
     "text": [
      "3*x0^4 + 23*x0^3*x1 + 55*x0^2*x1^2 + 46*x0*x1^3 + 11*x1^4\n"
     ]
    }
   ],
   "source": [
    "def specialize(f, S1, S2):\n",
    "    P1 = PolynomialRing(QQ, 'x', len(S1))\n",
    "    P2 = PolynomialRing(QQ, 'x', len(S2))\n",
    "    k = 0\n",
    "    for i, x in enumerate(S1):\n",
    "        subs_dict = {P2.gen(k + j): P1.gen(i) for j in range(len(x))}\n",
    "        f = f.subs(subs_dict)\n",
    "        k += len(x)\n",
    "    return f\n",
    "\n",
    "print(specialize(dSp, S, decompose(S)))"
   ]
  },
  {
   "cell_type": "code",
   "execution_count": 8,
   "metadata": {
    "vscode": {
     "languageId": "sage"
    }
   },
   "outputs": [
    {
     "data": {
      "text/plain": [
       "{(4, 0, 0, 0, 0, 0, 0, 0, 0, 0, 0): 3,\n",
       " (3, 1, 0, 0, 0, 0, 0, 0, 0, 0, 0): 23,\n",
       " (2, 2, 0, 0, 0, 0, 0, 0, 0, 0, 0): 55,\n",
       " (1, 3, 0, 0, 0, 0, 0, 0, 0, 0, 0): 46,\n",
       " (0, 4, 0, 0, 0, 0, 0, 0, 0, 0, 0): 11}"
      ]
     },
     "execution_count": 8,
     "metadata": {},
     "output_type": "execute_result"
    }
   ],
   "source": [
    "def coefficients_dict(f):\n",
    "    return {f.exponents()[i]: f.coefficients()[i] for i in range(len(f.coefficients()))}\n",
    "\n",
    "coefficients_dict(specialize(dSp, S, decompose(S)))"
   ]
  },
  {
   "cell_type": "code",
   "execution_count": 9,
   "metadata": {
    "vscode": {
     "languageId": "sage"
    }
   },
   "outputs": [
    {
     "name": "stdout",
     "output_type": "stream",
     "text": [
      "3*x0^4 + 18*x0^3*x1 + 36*x0^2*x1^2 + 34*x0*x1^3 + 11*x1^4\n"
     ]
    },
    {
     "data": {
      "text/plain": [
       "{(4, 0): 3, (3, 1): 18, (2, 2): 36, (1, 3): 34, (0, 4): 11}"
      ]
     },
     "execution_count": 9,
     "metadata": {},
     "output_type": "execute_result"
    }
   ],
   "source": [
    "print(Sp)\n",
    "coefficients_dict(Sp)"
   ]
  },
  {
   "cell_type": "code",
   "execution_count": 10,
   "metadata": {
    "vscode": {
     "languageId": "sage"
    }
   },
   "outputs": [
    {
     "data": {
      "text/plain": [
       "1/8*x0^4 + 3*x0^3*x1 + 9*x0^2*x1^2 + 17/3*x0*x1^3 + 11/24*x1^4"
      ]
     },
     "execution_count": 10,
     "metadata": {},
     "output_type": "execute_result"
    }
   ],
   "source": [
    "def normalize(f):\n",
    "    return sum(f.monomials()[i] * f.coefficients()[i]/prod([factorial(x) for x in f.exponents()[i]]) for i in range(len(f.coefficients())))\n",
    "\n",
    "nSp = normalize(Sp)\n",
    "nSp"
   ]
  },
  {
   "cell_type": "code",
   "execution_count": 11,
   "metadata": {
    "vscode": {
     "languageId": "sage"
    }
   },
   "outputs": [
    {
     "data": {
      "text/plain": [
       "True"
      ]
     },
     "execution_count": 11,
     "metadata": {},
     "output_type": "execute_result"
    }
   ],
   "source": [
    "nSp.is_lorentzian()"
   ]
  }
 ],
 "metadata": {
  "kernelspec": {
   "display_name": "SageMath 10.3",
   "language": "sage",
   "name": "SageMath-10.3"
  },
  "language_info": {
   "codemirror_mode": {
    "name": "ipython",
    "version": 3
   },
   "file_extension": ".py",
   "mimetype": "text/x-python",
   "name": "python",
   "nbconvert_exporter": "python",
   "pygments_lexer": "ipython3",
   "version": "3.11.8"
  }
 },
 "nbformat": 4,
 "nbformat_minor": 2
}
