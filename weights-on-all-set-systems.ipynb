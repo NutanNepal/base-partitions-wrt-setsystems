{
 "cells": [
  {
   "cell_type": "code",
   "execution_count": null,
   "metadata": {},
   "outputs": [],
   "source": [
    "def set_systems(M, r):\n",
    "    \"\"\"\n",
    "    generates all set systems of size r\n",
    "    \"\"\"\n",
    "    groundset = list(M.groundset())\n",
    "    ss = tuple(powerset(groundset))\n",
    "    for _ in range(r):\n",
    "        ss = tuple(product(ss, powerset(groundset)))\n",
    "    \n",
    "    return ss\n",
    "\n",
    "len(list(set_systems(M, 3)))"
   ]
  }
 ],
 "metadata": {
  "kernelspec": {
   "display_name": "SageMath 10.3",
   "language": "sage",
   "name": "SageMath-10.3"
  },
  "language_info": {
   "name": "sage"
  }
 },
 "nbformat": 4,
 "nbformat_minor": 2
}
